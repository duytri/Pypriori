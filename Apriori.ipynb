{
 "cells": [
  {
   "cell_type": "code",
   "execution_count": 9,
   "metadata": {},
   "outputs": [],
   "source": [
    "from numpy import *\n",
    "from itertools import combinations"
   ]
  },
  {
   "cell_type": "code",
   "execution_count": 10,
   "metadata": {},
   "outputs": [],
   "source": [
    "dataSet = [[1, 3, 4], [2, 3, 5], [1, 2, 3, 5], [2, 5]]"
   ]
  },
  {
   "cell_type": "code",
   "execution_count": 11,
   "metadata": {},
   "outputs": [],
   "source": [
    "def createC1(dataSet):\n",
    "    C1 = []\n",
    "    for transaction in dataSet:\n",
    "        for item in transaction:\n",
    "            if not [item] in C1:\n",
    "                C1.append([item])\n",
    "                \n",
    "    C1.sort()\n",
    "    return list(map(frozenset, C1))#use frozen set so we can use it as a key in a dict    "
   ]
  },
  {
   "cell_type": "code",
   "execution_count": 12,
   "metadata": {},
   "outputs": [],
   "source": [
    "def scanD(D, Ck, minSupport):\n",
    "    ssCnt = {}\n",
    "    for tid in D:\n",
    "        for can in Ck:\n",
    "            if can.issubset(tid):\n",
    "                if not can in ssCnt: ssCnt[can]=1\n",
    "                else: ssCnt[can] += 1\n",
    "    numItems = float(len(D))\n",
    "    retList = []\n",
    "    supportData = {}\n",
    "    for key in ssCnt:\n",
    "        support = ssCnt[key]/numItems\n",
    "        if support >= minSupport:\n",
    "            retList.insert(0,key)\n",
    "        supportData[key] = support\n",
    "    return retList, supportData"
   ]
  },
  {
   "cell_type": "code",
   "execution_count": 13,
   "metadata": {},
   "outputs": [],
   "source": [
    "def checkSubsetFrequency(candidate, Lk, k):\n",
    "    if k>1:    \n",
    "        subsets = list(combinations(candidate, k))\n",
    "    else:\n",
    "        return True\n",
    "    for elem in subsets:\n",
    "        if not frozenset(elem) in Lk:\n",
    "            return False\n",
    "    return True"
   ]
  },
  {
   "cell_type": "code",
   "execution_count": 14,
   "metadata": {},
   "outputs": [],
   "source": [
    "def aprioriGen(Lk, k): #creates Ck\n",
    "    resList = [] #result set\n",
    "    candidatesK = [] \n",
    "    lk = sorted(set([item for t in Lk for item in t])) #get and sort elements from frozenset\n",
    "    candidatesK = list(map(frozenset, combinations(lk, k)))\n",
    "    for can in candidatesK:\n",
    "        if checkSubsetFrequency(can, Lk, k-1):\n",
    "            resList.append(can)\n",
    "    return resList"
   ]
  },
  {
   "cell_type": "code",
   "execution_count": 15,
   "metadata": {},
   "outputs": [],
   "source": [
    "def apriori(dataSet, minSupport):\n",
    "    C1 = createC1(dataSet)\n",
    "    D = list(map(set, dataSet))\n",
    "    L1, supportData = scanD(D, C1, minSupport)\n",
    "    L = [L1]\n",
    "    k = 2\n",
    "    while (len(L[k-2]) > 0):\n",
    "        Ck = aprioriGen(L[k-2], k)\n",
    "        Lk, supK = scanD(D, Ck, minSupport)#scan DB to get Lk\n",
    "        supportData.update(supK)\n",
    "        L.append(Lk)\n",
    "        k += 1\n",
    "    #remove empty last itemset from L\n",
    "    if L[-1] == []:\n",
    "        L.pop()\n",
    "    return L, supportData"
   ]
  },
  {
   "cell_type": "code",
   "execution_count": 28,
   "metadata": {},
   "outputs": [],
   "source": [
    "L, suppData = apriori(dataSet, 0.5)"
   ]
  },
  {
   "cell_type": "code",
   "execution_count": 29,
   "metadata": {
    "scrolled": true
   },
   "outputs": [
    {
     "data": {
      "text/plain": [
       "[[frozenset({5}), frozenset({2}), frozenset({3}), frozenset({1})],\n",
       " [frozenset({3, 5}), frozenset({2, 5}), frozenset({2, 3}), frozenset({1, 3})],\n",
       " [frozenset({2, 3, 5})]]"
      ]
     },
     "execution_count": 29,
     "metadata": {},
     "output_type": "execute_result"
    }
   ],
   "source": [
    "L"
   ]
  },
  {
   "cell_type": "code",
   "execution_count": 32,
   "metadata": {},
   "outputs": [],
   "source": [
    "def generateRules(L, supportData, minConf):  #supportData is a dict coming from scanD\n",
    "    for i in range(1, len(L)): #only get the sets with two or more items\n",
    "        for item in L[i]: #for each item in a level\n",
    "            for j in range(1, i+1): # i+1 equal to length of an item\n",
    "                lhsList = list(map(frozenset, combinations(item, j)))\n",
    "                for lhs in lhsList:\n",
    "                    rhs = item.difference(lhs)\n",
    "                    conf = supportData[item]/supportData[rhs]\n",
    "                    if conf >= minConf:\n",
    "                        print(list(lhs), \" ==> \", list(rhs), \" [\", supportData[item], \", \", conf,\"]\", sep=\"\")"
   ]
  },
  {
   "cell_type": "code",
   "execution_count": 33,
   "metadata": {},
   "outputs": [
    {
     "name": "stdout",
     "output_type": "stream",
     "text": [
      "[3] ==> [5] [0.5, 0.6666666666666666]\n",
      "[5] ==> [3] [0.5, 0.6666666666666666]\n",
      "[2] ==> [5] [0.75, 1.0]\n",
      "[5] ==> [2] [0.75, 1.0]\n",
      "[2] ==> [3] [0.5, 0.6666666666666666]\n",
      "[3] ==> [2] [0.5, 0.6666666666666666]\n",
      "[1] ==> [3] [0.5, 0.6666666666666666]\n",
      "[3] ==> [1] [0.5, 1.0]\n",
      "[2] ==> [3, 5] [0.5, 1.0]\n",
      "[3] ==> [2, 5] [0.5, 0.6666666666666666]\n",
      "[5] ==> [2, 3] [0.5, 1.0]\n",
      "[2, 3] ==> [5] [0.5, 0.6666666666666666]\n",
      "[2, 5] ==> [3] [0.5, 0.6666666666666666]\n",
      "[3, 5] ==> [2] [0.5, 0.6666666666666666]\n"
     ]
    }
   ],
   "source": [
    "generateRules(L, suppData, 0.5)"
   ]
  }
 ],
 "metadata": {
  "kernelspec": {
   "display_name": "Python 3",
   "language": "python",
   "name": "python3"
  },
  "language_info": {
   "codemirror_mode": {
    "name": "ipython",
    "version": 3
   },
   "file_extension": ".py",
   "mimetype": "text/x-python",
   "name": "python",
   "nbconvert_exporter": "python",
   "pygments_lexer": "ipython3",
   "version": "3.8.2"
  }
 },
 "nbformat": 4,
 "nbformat_minor": 4
}
