{
 "cells": [
  {
   "cell_type": "code",
   "execution_count": 1,
   "metadata": {},
   "outputs": [],
   "source": [
    "import csv\n",
    "from pypriori.apriori import APRIORI, AssociationRules"
   ]
  },
  {
   "cell_type": "code",
   "execution_count": 2,
   "metadata": {},
   "outputs": [],
   "source": [
    "with open('groceries.csv', newline='') as f:\n",
    "    reader = csv.reader(f)\n",
    "    data = list(reader)"
   ]
  },
  {
   "cell_type": "code",
   "execution_count": 9,
   "metadata": {},
   "outputs": [],
   "source": [
    "alg = APRIORI(data, minSupport=0.01)\n",
    "freqItems, suppData = alg.apriori()"
   ]
  },
  {
   "cell_type": "code",
   "execution_count": 11,
   "metadata": {},
   "outputs": [
    {
     "name": "stdout",
     "output_type": "stream",
     "text": [
      "Rule: ['whole milk'] ==> ['whipped/sour cream', 'yogurt'] [0.010879511947127605, 0.5245098039215685]\n",
      "Rule: ['whole milk'] ==> ['butter', 'other vegetables'] [0.011489578037620742, 0.5736040609137055]\n",
      "Rule: ['whole milk'] ==> ['yogurt', 'other vegetables'] [0.02226741230299949, 0.5128805620608898]\n",
      "Rule: ['whole milk'] ==> ['pip fruit', 'other vegetables'] [0.013523131672597865, 0.5175097276264592]\n",
      "Rule: ['whole milk'] ==> ['domestic eggs', 'other vegetables'] [0.012302999491611592, 0.5525114155251142]\n",
      "Rule: ['other vegetables'] ==> ['citrus fruit', 'root vegetables'] [0.010371123538383325, 0.5862068965517241]\n",
      "Rule: ['whole milk'] ==> ['rolls/buns', 'root vegetables'] [0.012709710218607015, 0.5230125523012552]\n",
      "Rule: ['whole milk'] ==> ['yogurt', 'root vegetables'] [0.014539908490086425, 0.562992125984252]\n",
      "Rule: ['whole milk'] ==> ['tropical fruit', 'root vegetables'] [0.011997966446365024, 0.570048309178744]\n",
      "Rule: ['whole milk'] ==> ['whipped/sour cream', 'other vegetables'] [0.014641586171835282, 0.5070422535211268]\n",
      "Rule: ['other vegetables'] ==> ['tropical fruit', 'root vegetables'] [0.012302999491611592, 0.5845410628019324]\n",
      "Rule: ['other vegetables'] ==> ['rolls/buns', 'root vegetables'] [0.012201321809862735, 0.502092050209205]\n",
      "Rule: ['whole milk'] ==> ['yogurt', 'tropical fruit'] [0.015149974580579562, 0.517361111111111]\n",
      "Rule: ['whole milk'] ==> ['yogurt', 'curd'] [0.010066090493136757, 0.5823529411764706]\n"
     ]
    }
   ],
   "source": [
    "assocRules = AssociationRules(freqItems, suppData, minConfidence=0.5)\n",
    "ruleList = assocRules.generateRules()\n",
    "assocRules.printRules(ruleList)"
   ]
  }
 ],
 "metadata": {
  "kernelspec": {
   "display_name": "Python 3",
   "language": "python",
   "name": "python3"
  },
  "language_info": {
   "codemirror_mode": {
    "name": "ipython",
    "version": 3
   },
   "file_extension": ".py",
   "mimetype": "text/x-python",
   "name": "python",
   "nbconvert_exporter": "python",
   "pygments_lexer": "ipython3",
   "version": "3.8.2"
  }
 },
 "nbformat": 4,
 "nbformat_minor": 4
}
