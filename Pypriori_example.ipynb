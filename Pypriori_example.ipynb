{
 "cells": [
  {
   "cell_type": "code",
   "execution_count": 1,
   "metadata": {},
   "outputs": [],
   "source": [
    "from pypriori.apriori import APRIORI, AssociationRules"
   ]
  },
  {
   "cell_type": "code",
   "execution_count": 2,
   "metadata": {},
   "outputs": [],
   "source": [
    "data = [[1, 3, 4], [2, 3, 5], [1, 2, 3, 5], [2, 5]]"
   ]
  },
  {
   "cell_type": "code",
   "execution_count": 3,
   "metadata": {},
   "outputs": [],
   "source": [
    "alg = APRIORI(data)\n",
    "freqItems, suppData = alg.apriori(minSupport=0.5)"
   ]
  },
  {
   "cell_type": "code",
   "execution_count": 4,
   "metadata": {},
   "outputs": [
    {
     "data": {
      "text/plain": [
       "[[(5,), (2,), (3,), (1,)], [(3, 5), (2, 5), (2, 3), (1, 3)], [(2, 3, 5)], []]"
      ]
     },
     "execution_count": 4,
     "metadata": {},
     "output_type": "execute_result"
    }
   ],
   "source": [
    "freqItems"
   ]
  },
  {
   "cell_type": "code",
   "execution_count": 5,
   "metadata": {},
   "outputs": [
    {
     "data": {
      "text/plain": [
       "{(1,): 0.5,\n",
       " (3,): 0.75,\n",
       " (4,): 0.25,\n",
       " (2,): 0.75,\n",
       " (5,): 0.75,\n",
       " (1, 3): 0.5,\n",
       " (2, 3): 0.5,\n",
       " (2, 5): 0.75,\n",
       " (3, 5): 0.5,\n",
       " (1, 2): 0.25,\n",
       " (1, 5): 0.25,\n",
       " (2, 3, 5): 0.5}"
      ]
     },
     "execution_count": 5,
     "metadata": {},
     "output_type": "execute_result"
    }
   ],
   "source": [
    "suppData"
   ]
  },
  {
   "cell_type": "code",
   "execution_count": 6,
   "metadata": {},
   "outputs": [
    {
     "name": "stdout",
     "output_type": "stream",
     "text": [
      "Rule: [3] ==> [5] [0.5, 0.6666666666666666]\n",
      "Rule: [5] ==> [3] [0.5, 0.6666666666666666]\n",
      "Rule: [2] ==> [5] [0.75, 1.0]\n",
      "Rule: [5] ==> [2] [0.75, 1.0]\n",
      "Rule: [2] ==> [3] [0.5, 0.6666666666666666]\n",
      "Rule: [3] ==> [2] [0.5, 0.6666666666666666]\n",
      "Rule: [1] ==> [3] [0.5, 1.0]\n",
      "Rule: [3] ==> [1] [0.5, 0.6666666666666666]\n",
      "Rule: [2] ==> [3, 5] [0.5, 0.6666666666666666]\n",
      "Rule: [3] ==> [2, 5] [0.5, 0.6666666666666666]\n",
      "Rule: [5] ==> [2, 3] [0.5, 0.6666666666666666]\n",
      "Rule: [2, 3] ==> [5] [0.5, 1.0]\n",
      "Rule: [2, 5] ==> [3] [0.5, 0.6666666666666666]\n",
      "Rule: [3, 5] ==> [2] [0.5, 1.0]\n"
     ]
    }
   ],
   "source": [
    "assocRules = AssociationRules(freqItems, suppData, minConfidence=0.5)\n",
    "ruleList = assocRules.generateRules()\n",
    "assocRules.printRules(ruleList)"
   ]
  }
 ],
 "metadata": {
  "kernelspec": {
   "display_name": "Python 3",
   "language": "python",
   "name": "python3"
  },
  "language_info": {
   "codemirror_mode": {
    "name": "ipython",
    "version": 3
   },
   "file_extension": ".py",
   "mimetype": "text/x-python",
   "name": "python",
   "nbconvert_exporter": "python",
   "pygments_lexer": "ipython3",
   "version": "3.8.2"
  }
 },
 "nbformat": 4,
 "nbformat_minor": 4
}
